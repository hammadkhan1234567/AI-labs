{
  "nbformat": 4,
  "nbformat_minor": 0,
  "metadata": {
    "colab": {
      "provenance": [],
      "authorship_tag": "ABX9TyM3FFY6hdnkl/QR2g2QJRNo",
      "include_colab_link": true
    },
    "kernelspec": {
      "name": "python3",
      "display_name": "Python 3"
    },
    "language_info": {
      "name": "python"
    }
  },
  "cells": [
    {
      "cell_type": "markdown",
      "metadata": {
        "id": "view-in-github",
        "colab_type": "text"
      },
      "source": [
        "<a href=\"https://colab.research.google.com/github/hammadkhan1234567/AI-labs/blob/main/lab%20assignment%206.ipynb\" target=\"_parent\"><img src=\"https://colab.research.google.com/assets/colab-badge.svg\" alt=\"Open In Colab\"/></a>"
      ]
    },
    {
      "cell_type": "code",
      "source": [
        "#ACTIVITIES OF  AI LAB1\n",
        "#Number is even or odd\n",
        "n=input(\"Enter a number\")\n",
        "if int(n)%2==0:\n",
        "    print(\"The number is even\")\n",
        "else:\n",
        "    print(\"The number is odd\")\n",
        "\n",
        "#---------------------------------------------------------------------------------------------------------------------------------------------------------------------#\n",
        "\n",
        "#Accept integers until 10 and then sum\n",
        "\n",
        "sum=0\n",
        "s=input(\"Enter an integer\")\n",
        "n=int (s)\n",
        "while n!=0:\n",
        "    sum=sum+n\n",
        "    s=input(\"Enter an integer\")\n",
        "    n=int(s)\n",
        "print(\"Sum of given integers is\",sum)\n",
        "\n",
        "#Whether the number is prime or not\n",
        "isPrime=True\n",
        "i=2\n",
        "n=int(input(\"Enter a Number\"))\n",
        "while i<n:\n",
        "    remainder=n%i\n",
        "    if remainder==0:\n",
        "        isPrime=False\n",
        "        break\n",
        "    else:\n",
        "        i=i+1\n",
        "if isPrime:\n",
        "    print(\"number is Prime\")\n",
        "else:\n",
        "    print(\"Number is not Prime\")\n",
        "\n",
        "#five integer values and there sum\n",
        "sum=0\n",
        "i=0\n",
        "while i<=4:\n",
        "    s=input(\"Enter a number\")\n",
        "    n=int(s)\n",
        "    sum=sum+n\n",
        "    i=i+1\n",
        "print(\"sum is\",sum)\n",
        "\n",
        "#Sum of all values between 0 & 10 using while loop\n",
        "sum=0\n",
        "i=1\n",
        "while i<=10:\n",
        "    sum=sum+i\n",
        "    i=i+1\n",
        "print(\"sum is\",sum)\n",
        "\n",
        "#Input from the keyboard\n",
        "name=input(\"What is your name\")\n",
        "print(\"Hello\"+ (\" \")+name)\n",
        "\n",
        "job=input(\"What is your job\")\n",
        "print(\"Your job is\"+\" \"+job)\n",
        "\n",
        "num=input(\"Give me a number\")\n",
        "print(\"You said\"+\" \"+(num))\n",
        "\n",
        "#---------------------------------------------------------------------------------------------------------------------------------------------------------------------#\n",
        "\n",
        "#Guessing game\n",
        "import random\n",
        "\n",
        "min=1\n",
        "max=9\n",
        "number=random.randint(min,max)\n",
        "guess=None\n",
        "another=None\n",
        "TRY=0\n",
        "running=True\n",
        "print(\"alright\")\n",
        "\n",
        "while running:\n",
        "    guess=input(\"What is your lucky number\")\n",
        "    if int(guess)<number:\n",
        "        print(\"Wrong,too low\")\n",
        "    elif int(guess)>number:\n",
        "        print(\"Wrong,too high\")\n",
        "    elif guess.lower()==\"exit\":\n",
        "        print(\"Better luck next time\")\n",
        "    elif int(guess)==number:\n",
        "        print(\"Yes, that's the one, %s.\" %number)\n",
        "        if TRY<2:\n",
        "            print(\"Impressive , only %s tries.\" %TRY)\n",
        "        elif TRY>2 & TRY<10:\n",
        "            print(\"Pretty good, %s tries.\" %TRY)\n",
        "        else:\n",
        "            print(\"Bad, %s tries.\" %TRY)\n",
        "        running=False\n",
        "    TRY=+1\n",
        "\n",
        "#---------------------------------------------------------------------------------------------------------------------------------------------------------------------#\n",
        "\n",
        "#reversing a number\n",
        "n=int(input(\"Enter an integer\"))\n",
        "rev_no=0\n",
        "while (n>0):\n",
        "    remainder=n%10\n",
        "    rev_no=(rev_no*10)+remainder\n",
        "    n=n//10\n",
        "print(\"The reversed number is\"+ \" \"+format(rev_no))\n",
        "\n",
        "#finding factorial of a number\n",
        "n=int(input(\"Enter a number\"))\n",
        "fac=1\n",
        "i=1\n",
        "while i<=n:\n",
        "    fac=fac*i\n",
        "    i=i+1\n",
        "print(\"Factorial of\",n,\"is\" ,fac)\n",
        "\n",
        "#---------------------------------------------------------------------------------------------------------------------------------------------------------------------#\n",
        "\n",
        "#Marks of Students\n",
        "n = int(input('Enter a marks of student:'))\n",
        "if n>100 or n<0:\n",
        "    print('invalid input')\n",
        "else:\n",
        "    if n<50:\n",
        "        print(\"You Got F Grade, Better luck next time:\",n)\n",
        "    elif n>50 and n<60:\n",
        "        print(\"Your Grade is E, Improvement suggested\",n)\n",
        "    elif n>61 and n<70:\n",
        "        print(\"D is your Grade\",n)\n",
        "    elif n>71 and n<80:\n",
        "        print(\"C is your Grade\",n)\n",
        "    elif n>81 and n<90:\n",
        "        print(\"Your Grade is B,Good\",n)\n",
        "    elif n>91 and n<100:\n",
        "        print(\"Your Scored a Great Deal, Excelent\",n)\n",
        "\n",
        "#Set of integers and their sum\n",
        "n=int(input(\"enter numbers to add : \"))\n",
        "even=0\n",
        "odd=0\n",
        "\n",
        "for num in range(1,n+1):\n",
        "    n=int(input(\"enter the values : \"))\n",
        "    if(num%2==0):\n",
        "        even=even+num\n",
        "    else:\n",
        "       odd=odd+num\n",
        "\n",
        "print(\"total of even numbers=\",even)\n",
        "print(\"total of odd numbers=\",odd)\n",
        "\n",
        "#Fibonacci Series\n",
        "n=int(input(\"enter the terms : \"))\n",
        "fe=0\n",
        "se=1\n",
        "if n<0:\n",
        "    print(\"enter positive values\")\n",
        "else:\n",
        "    print(fe,se,end=\"\")\n",
        "for x in range(2,n):\n",
        "    next=fe+se\n",
        "    print(next,end=\"\")\n",
        "    fe=se\n",
        "    se=next\n"
      ],
      "metadata": {
        "colab": {
          "base_uri": "https://localhost:8080/",
          "height": 287
        },
        "id": "vVeOHmEcM4Vf",
        "outputId": "9ec07a90-2a63-47b0-ea51-f285763b62c5"
      },
      "execution_count": 2,
      "outputs": [
        {
          "name": "stdout",
          "output_type": "stream",
          "text": [
            "Enter a number63\n",
            "The number is odd\n",
            "Enter an integerabc\n"
          ]
        },
        {
          "output_type": "error",
          "ename": "ValueError",
          "evalue": "ignored",
          "traceback": [
            "\u001b[0;31m---------------------------------------------------------------------------\u001b[0m",
            "\u001b[0;31mValueError\u001b[0m                                Traceback (most recent call last)",
            "\u001b[0;32m<ipython-input-2-ab6d8c9e3cde>\u001b[0m in \u001b[0;36m<module>\u001b[0;34m\u001b[0m\n\u001b[1;32m     13\u001b[0m \u001b[0msum\u001b[0m\u001b[0;34m=\u001b[0m\u001b[0;36m0\u001b[0m\u001b[0;34m\u001b[0m\u001b[0;34m\u001b[0m\u001b[0m\n\u001b[1;32m     14\u001b[0m \u001b[0ms\u001b[0m\u001b[0;34m=\u001b[0m\u001b[0minput\u001b[0m\u001b[0;34m(\u001b[0m\u001b[0;34m\"Enter an integer\"\u001b[0m\u001b[0;34m)\u001b[0m\u001b[0;34m\u001b[0m\u001b[0;34m\u001b[0m\u001b[0m\n\u001b[0;32m---> 15\u001b[0;31m \u001b[0mn\u001b[0m\u001b[0;34m=\u001b[0m\u001b[0mint\u001b[0m \u001b[0;34m(\u001b[0m\u001b[0ms\u001b[0m\u001b[0;34m)\u001b[0m\u001b[0;34m\u001b[0m\u001b[0;34m\u001b[0m\u001b[0m\n\u001b[0m\u001b[1;32m     16\u001b[0m \u001b[0;32mwhile\u001b[0m \u001b[0mn\u001b[0m\u001b[0;34m!=\u001b[0m\u001b[0;36m0\u001b[0m\u001b[0;34m:\u001b[0m\u001b[0;34m\u001b[0m\u001b[0;34m\u001b[0m\u001b[0m\n\u001b[1;32m     17\u001b[0m     \u001b[0msum\u001b[0m\u001b[0;34m=\u001b[0m\u001b[0msum\u001b[0m\u001b[0;34m+\u001b[0m\u001b[0mn\u001b[0m\u001b[0;34m\u001b[0m\u001b[0;34m\u001b[0m\u001b[0m\n",
            "\u001b[0;31mValueError\u001b[0m: invalid literal for int() with base 10: 'abc'"
          ]
        }
      ]
    },
    {
      "cell_type": "code",
      "source": [
        "import time\n",
        "\n",
        "visited=[]\n",
        "Queue=[]\n",
        "start_time= time.time()\n",
        "def BFS(visited,dic,node,goal,isgoalAchieved=False):\n",
        "    visited.append(node)\n",
        "    Queue.append(node)\n",
        "    while Queue:\n",
        "        m=Queue.pop(0)\n",
        "        print(m,end=\" \")\n",
        "        if m==goal:\n",
        "            isgoalAchieved==True\n",
        "            print(\"GOAL ACHIEVED\")\n",
        "            print(time.time() - start_time)\n",
        "            break\n",
        "        elif isgoalAchieved==False:\n",
        "            for neighbours in dic[m]:\n",
        "                if neighbours not in visited:\n",
        "                    visited.append(neighbours)\n",
        "                    Queue.append(neighbours)\n",
        "Goal='bucharest'\n",
        "isgoalAchieved=False\n",
        "Frontier={\"arad\":[\"zernid\",\"sibiu\",\"timisoara\"],\n",
        "            \"zernid\":[\"arad\",\"oradea\"],\n",
        "            \"oradea\":[\"zernid\",\"sibiu\"],\n",
        "            \"sibiu\":[\"arad\",\"oradea\",\"fagaras\",\"rimnicu vilcea\"],\n",
        "            \"timisoara\":[\"arad\",\"lugoj\"],\n",
        "            \"lugoj\":[\"timisoara\",\"mehadia\"],\n",
        "            \"mehadia\":[\"lugoj\",\"dobreta\"],\n",
        "            \"dobreta\":[\"mehadia\",\"craiova\"],\n",
        "            \"craiova\":[\"dobreta\",\"rimnicu vilcea\",\"pitesti\"],\n",
        "            \"rimnicu vilcea\":[\"sibiu\",\"pitesti\",\"craiova\"],\n",
        "            \"pitesti\":[\"rimnicu vilcea\",\"craiova\",\"bucharest\"],\n",
        "            \"fagaras\":[\"sibiu\",\"bucharest\"],\n",
        "            \"bucharest\":[\"fagaras\",\"pitesti\",\"giurgiu\",\"urziceni\"],\n",
        "            \"giurgiu\":[\"bucharest\"],\n",
        "            \"urziceni\":[\"bucharest\",\"hirsova\",\"vaslui\"],\n",
        "            \"hirsova\":[\"urziceni\",\"eforie\"],\n",
        "            \"eforie\":[\"hirsova\"],\n",
        "            \"vaslui\":[\"lasi\",\"urziceni\"],\n",
        "            \"lasi\":[\"vaslui\",\"neamt\"],\n",
        "            \"neamt\":[\"lasi\"]}\n",
        "BFS(visited,Frontier,'arad',Goal,isgoalAchieved)\n",
        "print(time.time() - start_time)"
      ],
      "metadata": {
        "colab": {
          "base_uri": "https://localhost:8080/"
        },
        "id": "_ocwoyhzN6Rz",
        "outputId": "62a42a80-ee02-4fb0-a129-689adf65c106"
      },
      "execution_count": 3,
      "outputs": [
        {
          "output_type": "stream",
          "name": "stdout",
          "text": [
            "arad zernid sibiu timisoara oradea fagaras rimnicu vilcea lugoj bucharest GOAL ACHIEVED\n",
            "0.005062103271484375\n",
            "0.005278825759887695\n"
          ]
        }
      ]
    },
    {
      "cell_type": "code",
      "source": [
        "#Depth-First-Search\n",
        "import time\n",
        "visited=[]\n",
        "Stack=[]\n",
        "start_time= time.time()\n",
        "def DFS(visited,dic,node,goal,isgoalAchieved=False):\n",
        "    visited.append(node)\n",
        "    Stack.append(node)\n",
        "    while Stack:\n",
        "        m=Stack.pop()\n",
        "        print(m, end=\" \")\n",
        "\n",
        "        if m==goal:\n",
        "            isgoalAchieved==True\n",
        "            print(\"GOAL ACHIEVED\")\n",
        "            print(time.time() - start_time)\n",
        "            break\n",
        "        elif isgoalAchieved==False:\n",
        "            for neighbours in dic[m]:\n",
        "                if neighbours not in visited:\n",
        "                    visited.append(neighbours)\n",
        "                    Stack.append(neighbours)\n",
        "\n",
        "Goal='bucharest'\n",
        "isgoalAchieved=False\n",
        "Frontier={\"arad\":[\"zernid\",\"sibiu\",\"timisoara\"],\n",
        "            \"zernid\":[\"arad\",\"oradea\"],\n",
        "            \"oradea\":[\"zernid\",\"sibiu\"],\n",
        "            \"sibiu\":[\"arad\",\"oradea\",\"fagaras\",\"rimnicu vilcea\"],\n",
        "            \"timisoara\":[\"arad\",\"lugoj\"],\n",
        "            \"lugoj\":[\"timisoara\",\"mehadia\"],\n",
        "            \"mehadia\":[\"lugoj\",\"dobreta\"],\n",
        "            \"dobreta\":[\"mehadia\",\"craiova\"],\n",
        "            \"craiova\":[\"dobreta\",\"rimnicu vilcea\",\"pitesti\"],\n",
        "            \"rimnicu vilcea\":[\"sibiu\",\"pitesti\",\"craiova\"],\n",
        "            \"pitesti\":[\"rimnicu vilcea\",\"craiova\",\"bucharest\"],\n",
        "            \"fagaras\":[\"sibiu\",\"bucharest\"],\n",
        "            \"bucharest\":[\"fagaras\",\"pitesti\",\"giurgiu\",\"urziceni\"],\n",
        "            \"giurgiu\":[\"bucharest\"],\n",
        "            \"urziceni\":[\"bucharest\",\"hirsova\",\"vaslui\"],\n",
        "            \"hirsova\":[\"urziceni\",\"eforie\"],\n",
        "            \"eforie\":[\"hirsova\"],\n",
        "            \"vaslui\":[\"lasi\",\"urziceni\"],\n",
        "            \"lasi\":[\"vaslui\",\"neamt\"],\n",
        "            \"neamt\":[\"lasi\"]}\n",
        "DFS(visited,Frontier,'sibiu',Goal,isgoalAchieved)\n",
        "print(time.time() - start_time)\n",
        "\n"
      ],
      "metadata": {
        "colab": {
          "base_uri": "https://localhost:8080/"
        },
        "id": "4CPnsMs3OZRu",
        "outputId": "72ad798f-ebc4-41b5-c762-b81bbec0540b"
      },
      "execution_count": 4,
      "outputs": [
        {
          "output_type": "stream",
          "name": "stdout",
          "text": [
            "sibiu rimnicu vilcea craiova dobreta mehadia lugoj timisoara pitesti bucharest GOAL ACHIEVED\n",
            "0.0007174015045166016\n",
            "0.0008780956268310547\n"
          ]
        }
      ]
    },
    {
      "cell_type": "code",
      "source": [
        "import puzzle\n",
        "import sys\n",
        "import math\n",
        "\n",
        "puzzleString=sys.argv[1]\n",
        "puzzleArray=puzzleString.split(\" \")\n",
        "p=puzzle.TilePuzzle(int(math.sqrt(len(puzzleArray))))\n",
        "p.readPuzzle(puzzleString)\n",
        "p.parseMoveSequence(sys.argv[2])\n",
        "print(p.checkPuzzle())\n",
        "\n",
        "\n",
        "\n"
      ],
      "metadata": {
        "colab": {
          "base_uri": "https://localhost:8080/",
          "height": 373
        },
        "id": "mMYKjy2kOq1u",
        "outputId": "2ce401f8-2413-4444-e948-756e3d19f33d"
      },
      "execution_count": 6,
      "outputs": [
        {
          "output_type": "error",
          "ename": "ModuleNotFoundError",
          "evalue": "ignored",
          "traceback": [
            "\u001b[0;31m---------------------------------------------------------------------------\u001b[0m",
            "\u001b[0;31mModuleNotFoundError\u001b[0m                       Traceback (most recent call last)",
            "\u001b[0;32m<ipython-input-6-457252bb2d6c>\u001b[0m in \u001b[0;36m<module>\u001b[0;34m\u001b[0m\n\u001b[0;32m----> 1\u001b[0;31m \u001b[0;32mimport\u001b[0m \u001b[0mpuzzle\u001b[0m\u001b[0;34m\u001b[0m\u001b[0;34m\u001b[0m\u001b[0m\n\u001b[0m\u001b[1;32m      2\u001b[0m \u001b[0;32mimport\u001b[0m \u001b[0msys\u001b[0m\u001b[0;34m\u001b[0m\u001b[0;34m\u001b[0m\u001b[0m\n\u001b[1;32m      3\u001b[0m \u001b[0;32mimport\u001b[0m \u001b[0mmath\u001b[0m\u001b[0;34m\u001b[0m\u001b[0;34m\u001b[0m\u001b[0m\n\u001b[1;32m      4\u001b[0m \u001b[0;34m\u001b[0m\u001b[0m\n\u001b[1;32m      5\u001b[0m \u001b[0mpuzzleString\u001b[0m\u001b[0;34m=\u001b[0m\u001b[0msys\u001b[0m\u001b[0;34m.\u001b[0m\u001b[0margv\u001b[0m\u001b[0;34m[\u001b[0m\u001b[0;36m1\u001b[0m\u001b[0;34m]\u001b[0m\u001b[0;34m\u001b[0m\u001b[0;34m\u001b[0m\u001b[0m\n",
            "\u001b[0;31mModuleNotFoundError\u001b[0m: No module named 'puzzle'",
            "",
            "\u001b[0;31m---------------------------------------------------------------------------\u001b[0;32m\nNOTE: If your import is failing due to a missing package, you can\nmanually install dependencies using either !pip or !apt.\n\nTo view examples of installing some common dependencies, click the\n\"Open Examples\" button below.\n\u001b[0;31m---------------------------------------------------------------------------\u001b[0m\n"
          ],
          "errorDetails": {
            "actions": [
              {
                "action": "open_url",
                "actionText": "Open Examples",
                "url": "/notebooks/snippets/importing_libraries.ipynb"
              }
            ]
          }
        }
      ]
    }
  ]
}